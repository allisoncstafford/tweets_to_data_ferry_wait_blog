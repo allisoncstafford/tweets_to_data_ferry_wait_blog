{
 "cells": [
  {
   "cell_type": "markdown",
   "metadata": {},
   "source": [
    "# This Code Transforms text data (tweets) into hourly waits for the Edmonds-Kingston Washington State Ferry run"
   ]
  },
  {
   "cell_type": "markdown",
   "metadata": {},
   "source": [
    "## Import necessary packages"
   ]
  },
  {
   "cell_type": "code",
   "execution_count": 2,
   "metadata": {},
   "outputs": [],
   "source": [
    "import pandas as pd\n",
    "import glob\n",
    "import numpy as np"
   ]
  },
  {
   "cell_type": "markdown",
   "metadata": {},
   "source": [
    "## load data"
   ]
  },
  {
   "cell_type": "code",
   "execution_count": 3,
   "metadata": {},
   "outputs": [],
   "source": [
    "all_files = glob.glob(\"./data/*.csv\")\n",
    "\n",
    "df_from_each_file = (pd.read_csv(f) for f in all_files)\n",
    "df = pd.concat(df_from_each_file, ignore_index=True)"
   ]
  },
  {
   "cell_type": "code",
   "execution_count": 4,
   "metadata": {},
   "outputs": [
    {
     "data": {
      "text/plain": [
       "Index(['Tweet permalink', 'Tweet text', 'time'], dtype='object')"
      ]
     },
     "execution_count": 4,
     "metadata": {},
     "output_type": "execute_result"
    }
   ],
   "source": [
    "df.columns"
   ]
  },
  {
   "cell_type": "code",
   "execution_count": 5,
   "metadata": {},
   "outputs": [],
   "source": [
    "df.columns = df.columns.str.lower().str.replace(' ', '_')"
   ]
  },
  {
   "cell_type": "markdown",
   "metadata": {},
   "source": [
    "## Extract wait times from tweets\n",
    "\n",
    "### Assumptions:\n",
    "* wait-related tweets contain the word 'wait'\n",
    "* edmonds-related tweets contain the full word 'edmonds'\n",
    "* kingston-related tweets contain the full word 'kingston'\n",
    "* numbers are spelled out or numerals\n",
    "\n",
    "### Standard tweet Examples:\n",
    "* Edm/King - Edmonds and Kingston Terminal Status - 2 Hour Wait\n",
    "* Edm/King - Kingston Terminal Status - Two Hour Wait\n",
    "* Edm/King - Edmonds Terminal Status - One Hour Wait\n",
    "* Edm/King - No Extended Wait for Drivers Departing Edmonds\n",
    "* Edm/King - One Hour Wait Departing Kingston and Edmonds\n",
    "\n",
    "### Non-Standard tweet Examples:\n",
    "* Edm/King - Update - Edmonds and Kingston Terminal Status, 2hrs Edm, 1hr King\n",
    "* Edm/King - No Extended Wait in Kingston - One Hour Wait in Edmonds, Late Vessel\n",
    "* Edm/King - Kingston 6:25am Departure is Cancelled. One Hr. Wait\n",
    "* Edm/King - no longer an extended wait departing edmonds or kingston\n",
    "* Edm/King - edmonds and kingston terminal status - 2 hour wait"
   ]
  },
  {
   "cell_type": "code",
   "execution_count": 6,
   "metadata": {},
   "outputs": [],
   "source": [
    "# changing text to lowercase and removing the url, \n",
    "df['tweet_text'] = df['tweet_text'].str.lower().str.replace('https:.*', '')\n",
    "\n",
    "# removing route indicator ('edm/king -'), extra whitespace\n",
    "df['tweet_text'] = df['tweet_text'].str.replace('edm/king -', '').str.strip()\n",
    "\n",
    "# removing wsp boarding pass indicataor\n",
    "df['tweet_text'] = df['tweet_text'].str.replace(', no wsp boarding pass required|, wsp boarding pass required', '')"
   ]
  },
  {
   "cell_type": "code",
   "execution_count": 7,
   "metadata": {},
   "outputs": [
    {
     "name": "stdout",
     "output_type": "stream",
     "text": [
      "kingston 7:05am and edmonds 7:55am sailings cancelled - 2/4\n",
      "walla walla back in service\n",
      "edmonds terminal wait time - one hour\n",
      "update - no extended wait in edmonds\n",
      "update - no extended wait departing edmonds\n",
      "edmonds terminal wait time - one hour\n",
      "update - no extended wait departing edmonds\n",
      "kingston terminal wait time - one hour\n",
      "update - no extended wait departing kingston\n",
      "edmonds terminal wait time - one hour\n"
     ]
    }
   ],
   "source": [
    "for tweet in df['tweet_text'][0:10]:\n",
    "    print(tweet)"
   ]
  },
  {
   "cell_type": "code",
   "execution_count": 8,
   "metadata": {},
   "outputs": [],
   "source": [
    "df_wait = df[df['tweet_text'].str.contains('wait')]"
   ]
  },
  {
   "cell_type": "code",
   "execution_count": 9,
   "metadata": {
    "scrolled": true
   },
   "outputs": [],
   "source": [
    "ed_df = df_wait[df_wait['tweet_text'].str.contains('edmonds')].copy()\n",
    "ki_df = df_wait[df_wait['tweet_text'].str.contains('kingston')].copy()"
   ]
  },
  {
   "cell_type": "code",
   "execution_count": 10,
   "metadata": {},
   "outputs": [
    {
     "data": {
      "text/html": [
       "<div>\n",
       "<style scoped>\n",
       "    .dataframe tbody tr th:only-of-type {\n",
       "        vertical-align: middle;\n",
       "    }\n",
       "\n",
       "    .dataframe tbody tr th {\n",
       "        vertical-align: top;\n",
       "    }\n",
       "\n",
       "    .dataframe thead th {\n",
       "        text-align: right;\n",
       "    }\n",
       "</style>\n",
       "<table border=\"1\" class=\"dataframe\">\n",
       "  <thead>\n",
       "    <tr style=\"text-align: right;\">\n",
       "      <th></th>\n",
       "      <th>tweet_permalink</th>\n",
       "      <th>tweet_text</th>\n",
       "      <th>time</th>\n",
       "    </tr>\n",
       "  </thead>\n",
       "  <tbody>\n",
       "    <tr>\n",
       "      <th>2</th>\n",
       "      <td>https://twitter.com/wsferries/status/962107604...</td>\n",
       "      <td>edmonds terminal wait time - one hour</td>\n",
       "      <td>2018-02-09 23:35 +0000</td>\n",
       "    </tr>\n",
       "    <tr>\n",
       "      <th>3</th>\n",
       "      <td>https://twitter.com/wsferries/status/962145354...</td>\n",
       "      <td>update - no extended wait in edmonds</td>\n",
       "      <td>2018-02-10 02:05 +0000</td>\n",
       "    </tr>\n",
       "    <tr>\n",
       "      <th>4</th>\n",
       "      <td>https://twitter.com/wsferries/status/962167999...</td>\n",
       "      <td>update - no extended wait departing edmonds</td>\n",
       "      <td>2018-02-10 03:35 +0000</td>\n",
       "    </tr>\n",
       "    <tr>\n",
       "      <th>5</th>\n",
       "      <td>https://twitter.com/wsferries/status/962422179...</td>\n",
       "      <td>edmonds terminal wait time - one hour</td>\n",
       "      <td>2018-02-10 20:25 +0000</td>\n",
       "    </tr>\n",
       "    <tr>\n",
       "      <th>6</th>\n",
       "      <td>https://twitter.com/wsferries/status/962483833...</td>\n",
       "      <td>update - no extended wait departing edmonds</td>\n",
       "      <td>2018-02-11 00:30 +0000</td>\n",
       "    </tr>\n",
       "  </tbody>\n",
       "</table>\n",
       "</div>"
      ],
      "text/plain": [
       "                                     tweet_permalink  \\\n",
       "2  https://twitter.com/wsferries/status/962107604...   \n",
       "3  https://twitter.com/wsferries/status/962145354...   \n",
       "4  https://twitter.com/wsferries/status/962167999...   \n",
       "5  https://twitter.com/wsferries/status/962422179...   \n",
       "6  https://twitter.com/wsferries/status/962483833...   \n",
       "\n",
       "                                    tweet_text                    time  \n",
       "2        edmonds terminal wait time - one hour  2018-02-09 23:35 +0000  \n",
       "3         update - no extended wait in edmonds  2018-02-10 02:05 +0000  \n",
       "4  update - no extended wait departing edmonds  2018-02-10 03:35 +0000  \n",
       "5        edmonds terminal wait time - one hour  2018-02-10 20:25 +0000  \n",
       "6  update - no extended wait departing edmonds  2018-02-11 00:30 +0000  "
      ]
     },
     "execution_count": 10,
     "metadata": {},
     "output_type": "execute_result"
    }
   ],
   "source": [
    "df_wait.head()"
   ]
  },
  {
   "cell_type": "code",
   "execution_count": 11,
   "metadata": {},
   "outputs": [],
   "source": [
    "def get_hours(texts, locName, otherLocName, altNames):\n",
    "    \"\"\"Returns the hours of wait described in the texts for the location name\n",
    "    \n",
    "    Args:\n",
    "      texts: a panadas series of text describing the waits\n",
    "      locName: the name of the location to extract the time for\n",
    "      otherLocName: the name of the location NOT getting times extracted\n",
    "      altNames: a dictionary of the short names for locations (eg. {'Edmonds': ['Edm', 'Edms', 'E', 'Ed'],\n",
    "                                                                    'Kingston': ['K', 'Kgstn', 'King']})\n",
    "      \n",
    "    Returns: list of ints representing the wait hours in each record of text for the specified location\n",
    "    \"\"\"\n",
    "    \n",
    "    return [get_hour(text, locName, otherLocName, altNames) for text in texts]\n",
    "    "
   ]
  },
  {
   "cell_type": "code",
   "execution_count": 12,
   "metadata": {},
   "outputs": [],
   "source": [
    "import re\n",
    "\n",
    "def get_hour(text, locName, otherLocName, altNames):\n",
    "    \"\"\"Returns the hour of wait described in the text for the location name\n",
    "    \n",
    "    Args:\n",
    "      text: a string describing the wait\n",
    "      locName: the name of the location to extract the time for\n",
    "      otherLocName: the name of the location NOT getting times extracted\n",
    "      altNames: a dictionary of the short names for locations (eg. {'Edmonds': ['Edm', 'Edms', 'E', 'Ed'],\n",
    "                                                                    'Kingston': ['K', 'Kgstn', 'King']})\n",
    "      \n",
    "    Returns: and int - the number of hours wait for the locName\n",
    "    \"\"\"\n",
    "    # initialize hour and backup hour\n",
    "    hour = None\n",
    "    backup_hour = None\n",
    "    \n",
    "    # check for locName\n",
    "    if locName not in text:\n",
    "        return hour\n",
    "    \n",
    "    # check for otherLocName (ie. a dual-location message), and get the number for solo messages\n",
    "    if otherLocName not in text:\n",
    "        hour = get_num(text)\n",
    "        \n",
    "    # otherwise it's a dual-location message\n",
    "    else:\n",
    "        # split the message on - and ,\n",
    "        split_texts = re.split('-|,', text)\n",
    "        for split_text in split_texts:\n",
    "            # initialize flag of this section containing the location of interest\n",
    "            loc_in_text = False\n",
    "            \n",
    "            # check for full name and alternate/abreviated names\n",
    "            if locName in split_text:\n",
    "                loc_in_text = True\n",
    "            for name in altNames[locName]:\n",
    "                if name in split_text:\n",
    "                    loc_in_text = True\n",
    "            \n",
    "            # if the location is in the split, get the hour\n",
    "            if loc_in_text:\n",
    "                hour = get_num(split_text)\n",
    "            \n",
    "            # if the location isn't in the split, get the hour as a backup\n",
    "            else:\n",
    "                backup_hour = get_num(split_text)\n",
    "                \n",
    "        # if none of the sections have the name and hour together, use the backup_hour\n",
    "        if hour == None:\n",
    "            hour = backup_hour\n",
    "    return hour\n",
    "        "
   ]
  },
  {
   "cell_type": "code",
   "execution_count": 13,
   "metadata": {},
   "outputs": [],
   "source": [
    "import re\n",
    "\n",
    "def get_num(text):\n",
    "    \"\"\"Returns the number contained in the text (assumes only one number \n",
    "    between 1 and 3, text or numeric). Returns 0 if text includes no, \n",
    "    extenced, and wait.\"\"\"\n",
    "    if bool(re.search('1|one|60 minute', text)): return 1\n",
    "    elif bool(re.search('2|two', text)): return 2\n",
    "    elif bool(re.search('3|three', text)): return 3\n",
    "    elif bool(re.search('4|four', text)): return 4\n",
    "    elif bool(re.search('90 min', text)): return 1.5\n",
    "    elif bool(re.search('no.*wait', text)): return 0\n",
    "    else: return None"
   ]
  },
  {
   "cell_type": "markdown",
   "metadata": {},
   "source": [
    "## Investigating results - uncategorized tweets"
   ]
  },
  {
   "cell_type": "code",
   "execution_count": 14,
   "metadata": {},
   "outputs": [],
   "source": [
    "altNames = {'edmonds': ['edm', 'edms', ' ed'], 'kingston': ['kgstn', 'king']}"
   ]
  },
  {
   "cell_type": "code",
   "execution_count": 15,
   "metadata": {},
   "outputs": [],
   "source": [
    "ed_df['hours'] = get_hours(ed_df['tweet_text'], 'edmonds', 'kingston', altNames)"
   ]
  },
  {
   "cell_type": "code",
   "execution_count": 16,
   "metadata": {},
   "outputs": [
    {
     "name": "stdout",
     "output_type": "stream",
     "text": [
      "edmonds terminal wait-time sign is out of service\n"
     ]
    }
   ],
   "source": [
    "for tweet in ed_df.loc[ed_df['hours'].isna(),'tweet_text']:\n",
    "    print(tweet)"
   ]
  },
  {
   "cell_type": "code",
   "execution_count": 17,
   "metadata": {},
   "outputs": [],
   "source": [
    "ki_df['hours'] = get_hours(ki_df['tweet_text'], 'kingston', 'edmonds', altNames)"
   ]
  },
  {
   "cell_type": "code",
   "execution_count": 18,
   "metadata": {},
   "outputs": [
    {
     "data": {
      "text/html": [
       "<div>\n",
       "<style scoped>\n",
       "    .dataframe tbody tr th:only-of-type {\n",
       "        vertical-align: middle;\n",
       "    }\n",
       "\n",
       "    .dataframe tbody tr th {\n",
       "        vertical-align: top;\n",
       "    }\n",
       "\n",
       "    .dataframe thead th {\n",
       "        text-align: right;\n",
       "    }\n",
       "</style>\n",
       "<table border=\"1\" class=\"dataframe\">\n",
       "  <thead>\n",
       "    <tr style=\"text-align: right;\">\n",
       "      <th></th>\n",
       "      <th>tweet_permalink</th>\n",
       "      <th>tweet_text</th>\n",
       "      <th>time</th>\n",
       "      <th>hours</th>\n",
       "    </tr>\n",
       "  </thead>\n",
       "  <tbody>\n",
       "  </tbody>\n",
       "</table>\n",
       "</div>"
      ],
      "text/plain": [
       "Empty DataFrame\n",
       "Columns: [tweet_permalink, tweet_text, time, hours]\n",
       "Index: []"
      ]
     },
     "execution_count": 18,
     "metadata": {},
     "output_type": "execute_result"
    }
   ],
   "source": [
    "ki_df[ki_df['hours'].isna()]"
   ]
  },
  {
   "cell_type": "code",
   "execution_count": 19,
   "metadata": {},
   "outputs": [],
   "source": [
    "for tweet in ki_df.loc[ki_df['hours'].isna(),'tweet_text']:\n",
    "    print(tweet)"
   ]
  },
  {
   "cell_type": "code",
   "execution_count": 20,
   "metadata": {},
   "outputs": [
    {
     "data": {
      "text/html": [
       "<div>\n",
       "<style scoped>\n",
       "    .dataframe tbody tr th:only-of-type {\n",
       "        vertical-align: middle;\n",
       "    }\n",
       "\n",
       "    .dataframe tbody tr th {\n",
       "        vertical-align: top;\n",
       "    }\n",
       "\n",
       "    .dataframe thead th {\n",
       "        text-align: right;\n",
       "    }\n",
       "</style>\n",
       "<table border=\"1\" class=\"dataframe\">\n",
       "  <thead>\n",
       "    <tr style=\"text-align: right;\">\n",
       "      <th></th>\n",
       "      <th>tweet_permalink</th>\n",
       "      <th>tweet_text</th>\n",
       "      <th>time</th>\n",
       "      <th>hours</th>\n",
       "    </tr>\n",
       "  </thead>\n",
       "  <tbody>\n",
       "    <tr>\n",
       "      <th>2</th>\n",
       "      <td>https://twitter.com/wsferries/status/962107604...</td>\n",
       "      <td>edmonds terminal wait time - one hour</td>\n",
       "      <td>2018-02-09 23:35 +0000</td>\n",
       "      <td>1.0</td>\n",
       "    </tr>\n",
       "    <tr>\n",
       "      <th>3</th>\n",
       "      <td>https://twitter.com/wsferries/status/962145354...</td>\n",
       "      <td>update - no extended wait in edmonds</td>\n",
       "      <td>2018-02-10 02:05 +0000</td>\n",
       "      <td>0.0</td>\n",
       "    </tr>\n",
       "    <tr>\n",
       "      <th>4</th>\n",
       "      <td>https://twitter.com/wsferries/status/962167999...</td>\n",
       "      <td>update - no extended wait departing edmonds</td>\n",
       "      <td>2018-02-10 03:35 +0000</td>\n",
       "      <td>0.0</td>\n",
       "    </tr>\n",
       "    <tr>\n",
       "      <th>5</th>\n",
       "      <td>https://twitter.com/wsferries/status/962422179...</td>\n",
       "      <td>edmonds terminal wait time - one hour</td>\n",
       "      <td>2018-02-10 20:25 +0000</td>\n",
       "      <td>1.0</td>\n",
       "    </tr>\n",
       "    <tr>\n",
       "      <th>6</th>\n",
       "      <td>https://twitter.com/wsferries/status/962483833...</td>\n",
       "      <td>update - no extended wait departing edmonds</td>\n",
       "      <td>2018-02-11 00:30 +0000</td>\n",
       "      <td>0.0</td>\n",
       "    </tr>\n",
       "    <tr>\n",
       "      <th>9</th>\n",
       "      <td>https://twitter.com/wsferries/status/964643063...</td>\n",
       "      <td>edmonds terminal wait time - one hour</td>\n",
       "      <td>2018-02-16 23:30 +0000</td>\n",
       "      <td>1.0</td>\n",
       "    </tr>\n",
       "    <tr>\n",
       "      <th>10</th>\n",
       "      <td>https://twitter.com/wsferries/status/964724851...</td>\n",
       "      <td>update - no extended wait departing edmonds</td>\n",
       "      <td>2018-02-17 04:55 +0000</td>\n",
       "      <td>0.0</td>\n",
       "    </tr>\n",
       "    <tr>\n",
       "      <th>11</th>\n",
       "      <td>https://twitter.com/wsferries/status/964945055...</td>\n",
       "      <td>edmonds terminal wait time - one hour</td>\n",
       "      <td>2018-02-17 19:30 +0000</td>\n",
       "      <td>1.0</td>\n",
       "    </tr>\n",
       "    <tr>\n",
       "      <th>15</th>\n",
       "      <td>https://twitter.com/wsferries/status/965059556...</td>\n",
       "      <td>update - no extended wait in edmonds</td>\n",
       "      <td>2018-02-18 03:05 +0000</td>\n",
       "      <td>0.0</td>\n",
       "    </tr>\n",
       "    <tr>\n",
       "      <th>21</th>\n",
       "      <td>https://twitter.com/wsferries/status/109147755...</td>\n",
       "      <td>edmonds terminal status - 1 hour wait</td>\n",
       "      <td>2019-02-01 23:25 +0000</td>\n",
       "      <td>1.0</td>\n",
       "    </tr>\n",
       "    <tr>\n",
       "      <th>22</th>\n",
       "      <td>https://twitter.com/wsferries/status/109152537...</td>\n",
       "      <td>no extended wait departing edmonds</td>\n",
       "      <td>2019-02-02 02:35 +0000</td>\n",
       "      <td>0.0</td>\n",
       "    </tr>\n",
       "    <tr>\n",
       "      <th>36</th>\n",
       "      <td>https://twitter.com/wsferries/status/109911538...</td>\n",
       "      <td>edmonds terminal status - one hour wait</td>\n",
       "      <td>2019-02-23 01:15 +0000</td>\n",
       "      <td>1.0</td>\n",
       "    </tr>\n",
       "    <tr>\n",
       "      <th>37</th>\n",
       "      <td>https://twitter.com/wsferries/status/109915062...</td>\n",
       "      <td>no extended wait departing edmonds</td>\n",
       "      <td>2019-02-23 03:35 +0000</td>\n",
       "      <td>0.0</td>\n",
       "    </tr>\n",
       "    <tr>\n",
       "      <th>48</th>\n",
       "      <td>https://twitter.com/wsferries/status/972251951...</td>\n",
       "      <td>edmonds terminal wait time - one hour</td>\n",
       "      <td>2018-03-09 23:25 +0000</td>\n",
       "      <td>1.0</td>\n",
       "    </tr>\n",
       "    <tr>\n",
       "      <th>49</th>\n",
       "      <td>https://twitter.com/wsferries/status/972326186...</td>\n",
       "      <td>update - no extended wait departing edmonds</td>\n",
       "      <td>2018-03-10 04:20 +0000</td>\n",
       "      <td>0.0</td>\n",
       "    </tr>\n",
       "    <tr>\n",
       "      <th>53</th>\n",
       "      <td>https://twitter.com/wsferries/status/974760986...</td>\n",
       "      <td>edmonds terminal wait time - one hour</td>\n",
       "      <td>2018-03-16 21:35 +0000</td>\n",
       "      <td>1.0</td>\n",
       "    </tr>\n",
       "    <tr>\n",
       "      <th>54</th>\n",
       "      <td>https://twitter.com/wsferries/status/974851581...</td>\n",
       "      <td>update - no longer an extended wait time depar...</td>\n",
       "      <td>2018-03-17 03:35 +0000</td>\n",
       "      <td>0.0</td>\n",
       "    </tr>\n",
       "    <tr>\n",
       "      <th>63</th>\n",
       "      <td>https://twitter.com/wsferries/status/977301473...</td>\n",
       "      <td>edmonds terminal wait time - one hour</td>\n",
       "      <td>2018-03-23 21:50 +0000</td>\n",
       "      <td>1.0</td>\n",
       "    </tr>\n",
       "    <tr>\n",
       "      <th>76</th>\n",
       "      <td>https://twitter.com/wsferries/status/979843217...</td>\n",
       "      <td>edmonds terminal wait time - 90 minutes</td>\n",
       "      <td>2018-03-30 22:10 +0000</td>\n",
       "      <td>1.5</td>\n",
       "    </tr>\n",
       "    <tr>\n",
       "      <th>77</th>\n",
       "      <td>https://twitter.com/wsferries/status/979902360...</td>\n",
       "      <td>update - edmonds terminal wait time - one hour</td>\n",
       "      <td>2018-03-31 02:05 +0000</td>\n",
       "      <td>1.0</td>\n",
       "    </tr>\n",
       "  </tbody>\n",
       "</table>\n",
       "</div>"
      ],
      "text/plain": [
       "                                      tweet_permalink  \\\n",
       "2   https://twitter.com/wsferries/status/962107604...   \n",
       "3   https://twitter.com/wsferries/status/962145354...   \n",
       "4   https://twitter.com/wsferries/status/962167999...   \n",
       "5   https://twitter.com/wsferries/status/962422179...   \n",
       "6   https://twitter.com/wsferries/status/962483833...   \n",
       "9   https://twitter.com/wsferries/status/964643063...   \n",
       "10  https://twitter.com/wsferries/status/964724851...   \n",
       "11  https://twitter.com/wsferries/status/964945055...   \n",
       "15  https://twitter.com/wsferries/status/965059556...   \n",
       "21  https://twitter.com/wsferries/status/109147755...   \n",
       "22  https://twitter.com/wsferries/status/109152537...   \n",
       "36  https://twitter.com/wsferries/status/109911538...   \n",
       "37  https://twitter.com/wsferries/status/109915062...   \n",
       "48  https://twitter.com/wsferries/status/972251951...   \n",
       "49  https://twitter.com/wsferries/status/972326186...   \n",
       "53  https://twitter.com/wsferries/status/974760986...   \n",
       "54  https://twitter.com/wsferries/status/974851581...   \n",
       "63  https://twitter.com/wsferries/status/977301473...   \n",
       "76  https://twitter.com/wsferries/status/979843217...   \n",
       "77  https://twitter.com/wsferries/status/979902360...   \n",
       "\n",
       "                                           tweet_text                    time  \\\n",
       "2               edmonds terminal wait time - one hour  2018-02-09 23:35 +0000   \n",
       "3                update - no extended wait in edmonds  2018-02-10 02:05 +0000   \n",
       "4         update - no extended wait departing edmonds  2018-02-10 03:35 +0000   \n",
       "5               edmonds terminal wait time - one hour  2018-02-10 20:25 +0000   \n",
       "6         update - no extended wait departing edmonds  2018-02-11 00:30 +0000   \n",
       "9               edmonds terminal wait time - one hour  2018-02-16 23:30 +0000   \n",
       "10        update - no extended wait departing edmonds  2018-02-17 04:55 +0000   \n",
       "11              edmonds terminal wait time - one hour  2018-02-17 19:30 +0000   \n",
       "15               update - no extended wait in edmonds  2018-02-18 03:05 +0000   \n",
       "21              edmonds terminal status - 1 hour wait  2019-02-01 23:25 +0000   \n",
       "22                 no extended wait departing edmonds  2019-02-02 02:35 +0000   \n",
       "36            edmonds terminal status - one hour wait  2019-02-23 01:15 +0000   \n",
       "37                 no extended wait departing edmonds  2019-02-23 03:35 +0000   \n",
       "48              edmonds terminal wait time - one hour  2018-03-09 23:25 +0000   \n",
       "49        update - no extended wait departing edmonds  2018-03-10 04:20 +0000   \n",
       "53              edmonds terminal wait time - one hour  2018-03-16 21:35 +0000   \n",
       "54  update - no longer an extended wait time depar...  2018-03-17 03:35 +0000   \n",
       "63              edmonds terminal wait time - one hour  2018-03-23 21:50 +0000   \n",
       "76            edmonds terminal wait time - 90 minutes  2018-03-30 22:10 +0000   \n",
       "77     update - edmonds terminal wait time - one hour  2018-03-31 02:05 +0000   \n",
       "\n",
       "    hours  \n",
       "2     1.0  \n",
       "3     0.0  \n",
       "4     0.0  \n",
       "5     1.0  \n",
       "6     0.0  \n",
       "9     1.0  \n",
       "10    0.0  \n",
       "11    1.0  \n",
       "15    0.0  \n",
       "21    1.0  \n",
       "22    0.0  \n",
       "36    1.0  \n",
       "37    0.0  \n",
       "48    1.0  \n",
       "49    0.0  \n",
       "53    1.0  \n",
       "54    0.0  \n",
       "63    1.0  \n",
       "76    1.5  \n",
       "77    1.0  "
      ]
     },
     "execution_count": 20,
     "metadata": {},
     "output_type": "execute_result"
    }
   ],
   "source": [
    "ed_df.head(20)"
   ]
  },
  {
   "cell_type": "code",
   "execution_count": null,
   "metadata": {},
   "outputs": [],
   "source": []
  },
  {
   "cell_type": "code",
   "execution_count": null,
   "metadata": {},
   "outputs": [],
   "source": []
  }
 ],
 "metadata": {
  "kernelspec": {
   "display_name": "Python 3 (learn-env)",
   "language": "python",
   "name": "learn-env"
  },
  "language_info": {
   "codemirror_mode": {
    "name": "ipython",
    "version": 3
   },
   "file_extension": ".py",
   "mimetype": "text/x-python",
   "name": "python",
   "nbconvert_exporter": "python",
   "pygments_lexer": "ipython3",
   "version": "3.6.6"
  }
 },
 "nbformat": 4,
 "nbformat_minor": 2
}
